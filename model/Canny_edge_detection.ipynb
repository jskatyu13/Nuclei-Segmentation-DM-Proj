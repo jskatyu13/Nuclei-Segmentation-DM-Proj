{
 "cells": [
  {
   "cell_type": "code",
   "execution_count": 8,
   "metadata": {},
   "outputs": [],
   "source": [
    "import numpy as np\n",
    "\n",
    "from sklearn import preprocessing\n",
    "import matplotlib.pyplot as plt\n",
    "import pickle\n",
    "from sklearn.preprocessing import MinMaxScaler\n",
    "from keras import backend as K\n",
    "import cv2\n",
    "\n",
    "import warnings\n",
    "warnings.filterwarnings(\"ignore\")"
   ]
  },
  {
   "cell_type": "code",
   "execution_count": 22,
   "metadata": {},
   "outputs": [],
   "source": [
    "infile = open('Image_data.p','rb')\n",
    "X_data = pickle.load(infile)\n",
    "\n",
    "infile = open('Image_label.p','rb')\n",
    "y_label = pickle.load(infile)"
   ]
  },
  {
   "cell_type": "code",
   "execution_count": 23,
   "metadata": {},
   "outputs": [],
   "source": [
    "def convertTo1D(X):\n",
    "    new_X = []\n",
    "    for image in X:\n",
    "        im = image.flatten()\n",
    "        new_X.append(im)\n",
    "    return new_X\n",
    "\n",
    "def convertTo2D(X):\n",
    "    new_X = []\n",
    "    for image in X:\n",
    "        im = np.reshape(image,(256,256))\n",
    "        new_X.append(im)\n",
    "    return new_X\n",
    "\n",
    "def minmaxscaler(X,y):\n",
    "    scaler = MinMaxScaler((0,1))\n",
    "    X_flat = convertTo1D(X_data)\n",
    "    y_flat = convertTo1D(y_label)\n",
    "    \n",
    "    norm_X = scaler.fit_transform(X_flat)\n",
    "    norm_y = scaler.fit_transform(y_flat)\n",
    "    \n",
    "    new_X = convertTo2D(norm_X)\n",
    "    new_y = convertTo2D(norm_y)\n",
    "    \n",
    "    return new_X,new_y"
   ]
  },
  {
   "cell_type": "code",
   "execution_count": 24,
   "metadata": {},
   "outputs": [],
   "source": [
    "X_data,y_label = minmaxscaler(X_data,y_label)\n",
    "X_data = np.asarray(X_data)\n",
    "y_label = np.asarray(y_label)"
   ]
  },
  {
   "cell_type": "code",
   "execution_count": 54,
   "metadata": {},
   "outputs": [],
   "source": [
    "def get_edge_detection_mask(input_images):\n",
    "    output_images = []\n",
    "    for img in input_images:\n",
    "        img = img*255\n",
    "        img = np.uint8(img)\n",
    "        \n",
    "        ret3,th3 = cv2.threshold(img,0,255,cv2.THRESH_BINARY+cv2.THRESH_OTSU)\n",
    "        edges = cv2.Canny(img,0,ret3*2)\n",
    "        kernel = np.ones((3,3),np.uint8)\n",
    "        dilation = (cv2.dilate(edges,kernel,iterations = 2))/255\n",
    "        output_images.append(dilation)\n",
    "    output_images = np.asarray(output_images)\n",
    "    return output_images"
   ]
  },
  {
   "cell_type": "code",
   "execution_count": 26,
   "metadata": {},
   "outputs": [],
   "source": [
    "def dice_score(pred, target):\n",
    "    smooth = 1\n",
    "    m1 = pred.flatten()  # Flatten\n",
    "    m2 = target.flatten()  # Flatten\n",
    "    intersection = (m1 * m2).sum()\n",
    "\n",
    "    return (2 * intersection + smooth) / (m1.sum() + m2.sum() + smooth)\n",
    "\n",
    "def iou_score(pred, target):\n",
    "    smooth = 1\n",
    "    m1 = pred.flatten()  # Flatten\n",
    "    m2 = target.flatten()  # Flatten\n",
    "    intersection = (m1 * m2).sum()\n",
    "\n",
    "    return (intersection + smooth) / (m1.sum() + m2.sum() + smooth - intersection)\n",
    "\n",
    "def sensitivity_score(pred, target):\n",
    "    m1 = pred.flatten()\n",
    "    m2 = target.flatten()\n",
    "    target_neg = 1 - target\n",
    "    pred_neg = 1 - pred\n",
    "    fp = (target_neg*pred).sum()\n",
    "    tn = (target_neg*pred_neg).sum()\n",
    "    tp = (pred*target).sum()\n",
    "    fn = (target*pred_neg).sum()\n",
    "    S = tp/(tp+fn)\n",
    "    return S\n",
    "\n",
    "def specificity_score(pred, target):\n",
    "    m1 = pred.flatten()\n",
    "    m2 = target.flatten()\n",
    "    target_neg = 1 - target\n",
    "    pred_neg = 1 - pred\n",
    "    fp = (target_neg*pred).sum()\n",
    "    tn = (target_neg*pred_neg).sum()\n",
    "    tp = (pred*target).sum()\n",
    "    fn = (target*pred_neg).sum()\n",
    "    S = tn/(tn+fp)\n",
    "    return S\n"
   ]
  },
  {
   "cell_type": "code",
   "execution_count": 27,
   "metadata": {},
   "outputs": [],
   "source": [
    "# function for metrics\n",
    "def get_metrics(y_test_pred,test_label):\n",
    "    val1 = 0\n",
    "    val2 = 0\n",
    "    val3 = 0\n",
    "    val4 = 0\n",
    "    for i in range(y_test_pred.shape[0]):\n",
    "        val1 = val1 + dice_score(y_test_pred[i],test_label[i])\n",
    "        val2 = val2 + iou_score(y_test_pred[i],test_label[i])\n",
    "        val3 = val3 + sensitivity_score(y_test_pred[i],test_label[i])\n",
    "        val4 = val4 + specificity_score(y_test_pred[i],test_label[i])\n",
    "\n",
    "    dice_val = val1/y_test_pred.shape[0]\n",
    "    iou_val = val2/y_test_pred.shape[0]\n",
    "    sen_val = val3/y_test_pred.shape[0]\n",
    "    spec_val = val4/y_test_pred.shape[0]\n",
    "\n",
    "    print(\"dice score = \",round(dice_val,2))\n",
    "    print(\"Iou score = \",round(iou_val,2))\n",
    "    print(\"sensitivity score = \",round(sen_val,2))\n",
    "    print(\"specificity score = \",round(spec_val,2))"
   ]
  },
  {
   "cell_type": "code",
   "execution_count": 55,
   "metadata": {},
   "outputs": [],
   "source": [
    "# predincting masks \n",
    "pred_mask = get_edge_detection_mask(X_data)"
   ]
  },
  {
   "cell_type": "code",
   "execution_count": 56,
   "metadata": {},
   "outputs": [
    {
     "name": "stdout",
     "output_type": "stream",
     "text": [
      "dice score =  0.71\n",
      "Iou score =  0.57\n",
      "sensitivity score =  0.87\n",
      "specificity score =  0.91\n"
     ]
    }
   ],
   "source": [
    "get_metrics(pred_mask,y_label)"
   ]
  },
  {
   "cell_type": "code",
   "execution_count": 57,
   "metadata": {},
   "outputs": [
    {
     "data": {
      "image/png": "[encoded data removed]",
      "text/plain": [
       "<Figure size 432x288 with 1 Axes>"
      ]
     },
     "metadata": {
      "needs_background": "light"
     },
     "output_type": "display_data"
    }
   ],
   "source": [
    "plt.imshow(y_label[-1],cmap='gray')\n",
    "plt.imshow(pred_mask[-1],cmap='jet',alpha=0.75)\n",
    "plt.show()"
   ]
  },
  {
   "cell_type": "code",
   "execution_count": null,
   "metadata": {},
   "outputs": [],
   "source": []
  }
 ],
 "metadata": {
  "kernelspec": {
   "display_name": "Python 3",
   "language": "python",
   "name": "python3"
  },
  "language_info": {
   "codemirror_mode": {
    "name": "ipython",
    "version": 3
   },
   "file_extension": ".py",
   "mimetype": "text/x-python",
   "name": "python",
   "nbconvert_exporter": "python",
   "pygments_lexer": "ipython3",
   "version": "3.7.1"
  }
 },
 "nbformat": 4,
 "nbformat_minor": 2
}
