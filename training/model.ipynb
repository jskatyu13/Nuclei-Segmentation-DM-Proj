{
 "cells": [
  {
   "cell_type": "code",
   "execution_count": 2,
   "metadata": {},
   "outputs": [],
   "source": [
    "from keras import backend as K\n",
    "\n",
    "import warnings\n",
    "warnings.filterwarnings(\"ignore\")"
   ]
  },
  {
   "cell_type": "code",
   "execution_count": 3,
   "metadata": {},
   "outputs": [],
   "source": [
    "# Dice metrics\n",
    "\n",
    "def dice_coef(y_true, y_pred, smooth=1):\n",
    "  intersection = K.sum(y_true * y_pred, axis=[1,2,3])\n",
    "  union = K.sum(y_true, axis=[1,2,3]) + K.sum(y_pred, axis=[1,2,3])\n",
    "  dice = K.mean((2. * intersection + smooth)/(union + smooth), axis=0)\n",
    "  return dice\n",
    "\n",
    "def dice_loss(y_true, y_pred):\n",
    "  numerator = 2 * tf.reduce_sum(y_true * y_pred, axis=(1,2,3))\n",
    "  denominator = tf.reduce_sum(y_true + y_pred, axis=(1,2,3))\n",
    "\n",
    "  return 1 - numerator / denominator"
   ]
  },
  {
   "cell_type": "code",
   "execution_count": 4,
   "metadata": {},
   "outputs": [],
   "source": [
    "# Creating the model\n",
    "\n",
    "def apply_unet(pretrained_W = None, input_size = (256,256,1)):\n",
    "    Inputs = Input(input_size)\n",
    "\n",
    "    Conv1 = Conv2D(64,3, activation='relu',padding='same')(Inputs)\n",
    "    Conv1 = Conv2D(64,3, activation='relu',padding='same')(Conv1)\n",
    "    Pool1 = MaxPool2D(pool_size=(2,2))(Conv1)\n",
    "\n",
    "    Conv2 = Conv2D(128,3, activation='relu',padding='same')(Pool1)\n",
    "    Conv2 = Conv2D(128,3, activation='relu',padding='same')(Conv2)\n",
    "    Pool2 = MaxPool2D(pool_size=(2,2))(Conv2)\n",
    "\n",
    "    Conv3 = Conv2D(256,3, activation='relu',padding='same')(Pool2)\n",
    "    Conv3 = Conv2D(256,3, activation='relu',padding='same')(Conv3)\n",
    "    Pool3 = MaxPool2D(pool_size=(2,2))(Conv3)\n",
    "\n",
    "    Conv4 = Conv2D(512,3, activation='relu',padding='same')(Pool3)\n",
    "    Conv4 = Conv2D(512,3, activation='relu',padding='same')(Conv4)\n",
    "    Pool4 = MaxPool2D(pool_size=(2,2))(Conv4)\n",
    "\n",
    "    Conv5 = Conv2D(1024,3, activation='relu',padding='same')(Pool4)\n",
    "    Conv5 = Conv2D(1024,3, activation='relu',padding='same')(Conv5)\n",
    "    Up6 = UpSampling2D(size=(2,2))(Conv5)\n",
    "\n",
    "    Conv6 = Conv2D(512,2, activation='relu',padding='same')(Up6)\n",
    "    merge7 = concatenate([Conv4,Conv6], axis=3)\n",
    "\n",
    "    Conv7 = Conv2D(512,2, activation='relu',padding='same')(merge7)\n",
    "    Conv7 = Conv2D(512,2, activation='relu',padding='same')(Conv7)\n",
    "    Up8 = UpSampling2D(size=(2,2))(Conv7)\n",
    "\n",
    "    Conv8 = Conv2D(256,3, activation='relu', padding='same')(Up8)\n",
    "    merge9 = concatenate([Conv3,Conv8], axis=3)\n",
    "\n",
    "    Conv10 = Conv2D(256,3, activation='relu', padding='same')(merge9)\n",
    "    Conv10 = Conv2D(256,3, activation='relu', padding='same')(Conv10)\n",
    "    Up11 = UpSampling2D(size=(2,2))(Conv10)\n",
    "\n",
    "    Conv12 = Conv2D(128,3, activation='relu', padding='same')(Up11)\n",
    "    merge13 = concatenate([Conv2,Conv12], axis=3)\n",
    "\n",
    "    Conv14 = Conv2D(128,3, activation='relu', padding='same')(merge13)\n",
    "    Conv14 = Conv2D(128,3, activation='relu', padding='same')(Conv14)\n",
    "    Up15 = UpSampling2D(size=(2,2))(Conv14)\n",
    "\n",
    "    Conv16 = Conv2D(64,3, activation='relu', padding='same')(Up15)\n",
    "    merge17 = concatenate([Conv1,Conv16], axis=3)\n",
    "\n",
    "    Conv18 = Conv2D(64,3, activation='relu', padding='same')(merge17)\n",
    "    Conv18 = Conv2D(64,3, activation='relu', padding='same')(Conv18)\n",
    "\n",
    "    Conv19 = Conv2D(2,3,activation='relu', padding='same')(Conv18)\n",
    "    Conv20 = Conv2D(1,1, activation='sigmoid')(Conv19)\n",
    "\n",
    "    model = Model(input = Inputs, output = Conv20)\n",
    "\n",
    "    model.compile(optimizer = Adam(1e-4), loss = [dice_loss], metrics= [dice_coef,'accuracy'])\n",
    "\n",
    "\n",
    "    model.summary()\n",
    "\n",
    "    if pretrained_W :\n",
    "        model.load_weights(pretrained_W)\n",
    "\n",
    "    return model\n"
   ]
  },
  {
   "cell_type": "code",
   "execution_count": null,
   "metadata": {},
   "outputs": [],
   "source": []
  }
 ],
 "metadata": {
  "kernelspec": {
   "display_name": "Python 3",
   "language": "python",
   "name": "python3"
  },
  "language_info": {
   "codemirror_mode": {
    "name": "ipython",
    "version": 3
   },
   "file_extension": ".py",
   "mimetype": "text/x-python",
   "name": "python",
   "nbconvert_exporter": "python",
   "pygments_lexer": "ipython3",
   "version": "3.7.1"
  }
 },
 "nbformat": 4,
 "nbformat_minor": 2
}
