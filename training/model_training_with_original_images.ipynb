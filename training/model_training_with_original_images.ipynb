{
 "cells": [
  {
   "cell_type": "code",
   "execution_count": 1,
   "metadata": {
    "colab": {
     "base_uri": "https://localhost:8080/",
     "height": 34
    },
    "colab_type": "code",
    "id": "az2PcfBee8wY",
    "outputId": "16be4e30-4c5f-43bc-8f59-c9d9c3294f94"
   },
   "outputs": [
    {
     "name": "stderr",
     "output_type": "stream",
     "text": [
      "Using TensorFlow backend.\n"
     ]
    }
   ],
   "source": [
    "import numpy as np\n",
    "\n",
    "from sklearn import preprocessing\n",
    "import matplotlib.pyplot as plt\n",
    "\n",
    "from keras.models import *\n",
    "from keras.layers import *\n",
    "from keras.optimizers import *\n",
    "import pickle\n",
    "from sklearn.preprocessing import MinMaxScaler\n",
    "from keras import backend as K\n",
    "from keras.callbacks import ModelCheckpoint\n",
    "from keras import losses\n",
    "from sklearn.model_selection import train_test_split\n",
    "from keras.callbacks import EarlyStopping\n",
    "\n",
    "import warnings\n",
    "warnings.filterwarnings(\"ignore\")"
   ]
  },
  {
   "cell_type": "code",
   "execution_count": 2,
   "metadata": {
    "colab": {
     "base_uri": "https://localhost:8080/",
     "height": 121
    },
    "colab_type": "code",
    "id": "Va8RSbSG9S6H",
    "outputId": "f05be2bb-f9b3-4db3-fc5b-2d17e227eacd"
   },
   "outputs": [
    {
     "name": "stdout",
     "output_type": "stream",
     "text": [
      "Go to this URL in a browser: https://accounts.google.com/o/oauth2/auth?client_id=947318989803-6bn6qk8qdgf4n4g3pfee6491hc0brc4i.apps.googleusercontent.com&redirect_uri=urn%3aietf%3awg%3aoauth%3a2.0%3aoob&response_type=code&scope=email%20https%3a%2f%2fwww.googleapis.com%2fauth%2fdocs.test%20https%3a%2f%2fwww.googleapis.com%2fauth%2fdrive%20https%3a%2f%2fwww.googleapis.com%2fauth%2fdrive.photos.readonly%20https%3a%2f%2fwww.googleapis.com%2fauth%2fpeopleapi.readonly\n",
      "\n",
      "Enter your authorization code:\n",
      "··········\n",
      "Mounted at /content/drive\n"
     ]
    }
   ],
   "source": [
    "from google.colab import drive\n",
    "drive.mount('/content/drive')"
   ]
  },
  {
   "cell_type": "code",
   "execution_count": 0,
   "metadata": {
    "colab": {},
    "colab_type": "code",
    "id": "HBRAuDp29YF5"
   },
   "outputs": [],
   "source": [
    "DATA_PATH = \"/content/drive/My Drive\"\n",
    "infile = open(DATA_PATH+'/Image_data.p','rb')\n",
    "X_data = pickle.load(infile)\n",
    "\n",
    "infile = open(DATA_PATH+'/Image_label.p','rb')\n",
    "y_label = pickle.load(infile)"
   ]
  },
  {
   "cell_type": "code",
   "execution_count": 0,
   "metadata": {
    "colab": {},
    "colab_type": "code",
    "id": "osBvUIFp-fbv"
   },
   "outputs": [],
   "source": [
    "# Dice metrics\n",
    "\n",
    "def dice_coef(y_true, y_pred, smooth=1):\n",
    "  intersection = K.sum(y_true * y_pred, axis=[1,2,3])\n",
    "  union = K.sum(y_true, axis=[1,2,3]) + K.sum(y_pred, axis=[1,2,3])\n",
    "  dice = K.mean((2. * intersection + smooth)/(union + smooth), axis=0)\n",
    "  return dice\n",
    "\n",
    "def dice_loss(y_true, y_pred):\n",
    "  return 1 - dice_coef(y_true, y_pred)"
   ]
  },
  {
   "cell_type": "code",
   "execution_count": 0,
   "metadata": {
    "colab": {},
    "colab_type": "code",
    "id": "bRRJKqwAlPUI"
   },
   "outputs": [],
   "source": [
    "def convertTo1D(X):\n",
    "    new_X = []\n",
    "    for image in X:\n",
    "        im = image.flatten()\n",
    "        new_X.append(im)\n",
    "    return new_X\n",
    "\n",
    "def convertTo2D(X):\n",
    "    new_X = []\n",
    "    for image in X:\n",
    "        im = np.reshape(image,(256,256))\n",
    "        new_X.append(im)\n",
    "    return new_X\n",
    "\n",
    "def minmaxscaler(X,y):\n",
    "    scaler = MinMaxScaler((0,1))\n",
    "    X_flat = convertTo1D(X_data)\n",
    "    y_flat = convertTo1D(y_label)\n",
    "    \n",
    "    norm_X = scaler.fit_transform(X_flat)\n",
    "    norm_y = scaler.fit_transform(y_flat)\n",
    "    \n",
    "    new_X = convertTo2D(norm_X)\n",
    "    new_y = convertTo2D(norm_y)\n",
    "    \n",
    "    return new_X,new_y"
   ]
  },
  {
   "cell_type": "code",
   "execution_count": 0,
   "metadata": {
    "colab": {},
    "colab_type": "code",
    "id": "SDD_2PNdfhNz"
   },
   "outputs": [],
   "source": [
    "# Creating the model\n",
    "\n",
    "def apply_unet(pretrained_W = None, input_size = (256,256,1)):\n",
    "    Inputs = Input(input_size)\n",
    "\n",
    "    Conv1 = Conv2D(64,3, activation='relu',padding='same')(Inputs)\n",
    "    Conv1 = Conv2D(64,3, activation='relu',padding='same')(Conv1)\n",
    "    Pool1 = MaxPool2D(pool_size=(2,2))(Conv1)\n",
    "\n",
    "    Conv2 = Conv2D(128,3, activation='relu',padding='same')(Pool1)\n",
    "    Conv2 = Conv2D(128,3, activation='relu',padding='same')(Conv2)\n",
    "    Pool2 = MaxPool2D(pool_size=(2,2))(Conv2)\n",
    "\n",
    "    Conv3 = Conv2D(256,3, activation='relu',padding='same')(Pool2)\n",
    "    Conv3 = Conv2D(256,3, activation='relu',padding='same')(Conv3)\n",
    "    Pool3 = MaxPool2D(pool_size=(2,2))(Conv3)\n",
    "\n",
    "    Conv4 = Conv2D(512,3, activation='relu',padding='same')(Pool3)\n",
    "    Conv4 = Conv2D(512,3, activation='relu',padding='same')(Conv4)\n",
    "    Pool4 = MaxPool2D(pool_size=(2,2))(Conv4)\n",
    "\n",
    "    Conv5 = Conv2D(1024,3, activation='relu',padding='same')(Pool4)\n",
    "    Conv5 = Conv2D(1024,3, activation='relu',padding='same')(Conv5)\n",
    "    Up6 = UpSampling2D(size=(2,2))(Conv5)\n",
    "\n",
    "    Conv6 = Conv2D(512,2, activation='relu',padding='same')(Up6)\n",
    "    merge7 = concatenate([Conv4,Conv6], axis=3)\n",
    "\n",
    "    Conv7 = Conv2D(512,2, activation='relu',padding='same')(merge7)\n",
    "    Conv7 = Conv2D(512,2, activation='relu',padding='same')(Conv7)\n",
    "    Up8 = UpSampling2D(size=(2,2))(Conv7)\n",
    "\n",
    "    Conv8 = Conv2D(256,3, activation='relu', padding='same')(Up8)\n",
    "    merge9 = concatenate([Conv3,Conv8], axis=3)\n",
    "\n",
    "    Conv10 = Conv2D(256,3, activation='relu', padding='same')(merge9)\n",
    "    Conv10 = Conv2D(256,3, activation='relu', padding='same')(Conv10)\n",
    "    Up11 = UpSampling2D(size=(2,2))(Conv10)\n",
    "\n",
    "    Conv12 = Conv2D(128,3, activation='relu', padding='same')(Up11)\n",
    "    merge13 = concatenate([Conv2,Conv12], axis=3)\n",
    "\n",
    "    Conv14 = Conv2D(128,3, activation='relu', padding='same')(merge13)\n",
    "    Conv14 = Conv2D(128,3, activation='relu', padding='same')(Conv14)\n",
    "    Up15 = UpSampling2D(size=(2,2))(Conv14)\n",
    "\n",
    "    Conv16 = Conv2D(64,3, activation='relu', padding='same')(Up15)\n",
    "    merge17 = concatenate([Conv1,Conv16], axis=3)\n",
    "\n",
    "    Conv18 = Conv2D(64,3, activation='relu', padding='same')(merge17)\n",
    "    Conv18 = Conv2D(64,3, activation='relu', padding='same')(Conv18)\n",
    "\n",
    "    Conv19 = Conv2D(2,3,activation='relu', padding='same')(Conv18)\n",
    "    Conv20 = Conv2D(1,1, activation='sigmoid')(Conv19)\n",
    "\n",
    "    model = Model(input = Inputs, output = Conv20)\n",
    "\n",
    "    model.compile(optimizer = Adam(1e-4), loss = [dice_loss], metrics= [dice_coef])\n",
    "\n",
    "\n",
    "    model.summary()\n",
    "\n",
    "    if pretrained_W :\n",
    "        model.load_weights(pretrained_W)\n",
    "\n",
    "    return model"
   ]
  },
  {
   "cell_type": "code",
   "execution_count": 0,
   "metadata": {
    "colab": {},
    "colab_type": "code",
    "id": "Bu-LWaamllph"
   },
   "outputs": [],
   "source": [
    "X_data,y_label = minmaxscaler(X_data,y_label)\n",
    "X_data = np.asarray(X_data)\n",
    "y_label = np.asarray(y_label)"
   ]
  },
  {
   "cell_type": "code",
   "execution_count": 0,
   "metadata": {
    "colab": {},
    "colab_type": "code",
    "id": "VG1F-qrAdA0X"
   },
   "outputs": [],
   "source": [
    " x_train,x_test,y_train,y_test=train_test_split(X_data,y_label,test_size=0.1)"
   ]
  },
  {
   "cell_type": "code",
   "execution_count": 9,
   "metadata": {
    "colab": {
     "base_uri": "https://localhost:8080/",
     "height": 1000
    },
    "colab_type": "code",
    "id": "PVJ505ck95Hi",
    "outputId": "b1dff7eb-e737-4276-df56-0a27cc194eff"
   },
   "outputs": [
    {
     "name": "stdout",
     "output_type": "stream",
     "text": [
      "Model: \"model_1\"\n",
      "__________________________________________________________________________________________________\n",
      "Layer (type)                    Output Shape         Param #     Connected to                     \n",
      "==================================================================================================\n",
      "input_1 (InputLayer)            (None, 256, 256, 1)  0                                            \n",
      "__________________________________________________________________________________________________\n",
      "conv2d_1 (Conv2D)               (None, 256, 256, 64) 640         input_1[0][0]                    \n",
      "__________________________________________________________________________________________________\n",
      "conv2d_2 (Conv2D)               (None, 256, 256, 64) 36928       conv2d_1[0][0]                   \n",
      "__________________________________________________________________________________________________\n",
      "max_pooling2d_1 (MaxPooling2D)  (None, 128, 128, 64) 0           conv2d_2[0][0]                   \n",
      "__________________________________________________________________________________________________\n",
      "conv2d_3 (Conv2D)               (None, 128, 128, 128 73856       max_pooling2d_1[0][0]            \n",
      "__________________________________________________________________________________________________\n",
      "conv2d_4 (Conv2D)               (None, 128, 128, 128 147584      conv2d_3[0][0]                   \n",
      "__________________________________________________________________________________________________\n",
      "max_pooling2d_2 (MaxPooling2D)  (None, 64, 64, 128)  0           conv2d_4[0][0]                   \n",
      "__________________________________________________________________________________________________\n",
      "conv2d_5 (Conv2D)               (None, 64, 64, 256)  295168      max_pooling2d_2[0][0]            \n",
      "__________________________________________________________________________________________________\n",
      "conv2d_6 (Conv2D)               (None, 64, 64, 256)  590080      conv2d_5[0][0]                   \n",
      "__________________________________________________________________________________________________\n",
      "max_pooling2d_3 (MaxPooling2D)  (None, 32, 32, 256)  0           conv2d_6[0][0]                   \n",
      "__________________________________________________________________________________________________\n",
      "conv2d_7 (Conv2D)               (None, 32, 32, 512)  1180160     max_pooling2d_3[0][0]            \n",
      "__________________________________________________________________________________________________\n",
      "conv2d_8 (Conv2D)               (None, 32, 32, 512)  2359808     conv2d_7[0][0]                   \n",
      "__________________________________________________________________________________________________\n",
      "max_pooling2d_4 (MaxPooling2D)  (None, 16, 16, 512)  0           conv2d_8[0][0]                   \n",
      "__________________________________________________________________________________________________\n",
      "conv2d_9 (Conv2D)               (None, 16, 16, 1024) 4719616     max_pooling2d_4[0][0]            \n",
      "__________________________________________________________________________________________________\n",
      "conv2d_10 (Conv2D)              (None, 16, 16, 1024) 9438208     conv2d_9[0][0]                   \n",
      "__________________________________________________________________________________________________\n",
      "up_sampling2d_1 (UpSampling2D)  (None, 32, 32, 1024) 0           conv2d_10[0][0]                  \n",
      "__________________________________________________________________________________________________\n",
      "conv2d_11 (Conv2D)              (None, 32, 32, 512)  2097664     up_sampling2d_1[0][0]            \n",
      "__________________________________________________________________________________________________\n",
      "concatenate_1 (Concatenate)     (None, 32, 32, 1024) 0           conv2d_8[0][0]                   \n",
      "                                                                 conv2d_11[0][0]                  \n",
      "__________________________________________________________________________________________________\n",
      "conv2d_12 (Conv2D)              (None, 32, 32, 512)  2097664     concatenate_1[0][0]              \n",
      "__________________________________________________________________________________________________\n",
      "conv2d_13 (Conv2D)              (None, 32, 32, 512)  1049088     conv2d_12[0][0]                  \n",
      "__________________________________________________________________________________________________\n",
      "up_sampling2d_2 (UpSampling2D)  (None, 64, 64, 512)  0           conv2d_13[0][0]                  \n",
      "__________________________________________________________________________________________________\n",
      "conv2d_14 (Conv2D)              (None, 64, 64, 256)  1179904     up_sampling2d_2[0][0]            \n",
      "__________________________________________________________________________________________________\n",
      "concatenate_2 (Concatenate)     (None, 64, 64, 512)  0           conv2d_6[0][0]                   \n",
      "                                                                 conv2d_14[0][0]                  \n",
      "__________________________________________________________________________________________________\n",
      "conv2d_15 (Conv2D)              (None, 64, 64, 256)  1179904     concatenate_2[0][0]              \n",
      "__________________________________________________________________________________________________\n",
      "conv2d_16 (Conv2D)              (None, 64, 64, 256)  590080      conv2d_15[0][0]                  \n",
      "__________________________________________________________________________________________________\n",
      "up_sampling2d_3 (UpSampling2D)  (None, 128, 128, 256 0           conv2d_16[0][0]                  \n",
      "__________________________________________________________________________________________________\n",
      "conv2d_17 (Conv2D)              (None, 128, 128, 128 295040      up_sampling2d_3[0][0]            \n",
      "__________________________________________________________________________________________________\n",
      "concatenate_3 (Concatenate)     (None, 128, 128, 256 0           conv2d_4[0][0]                   \n",
      "                                                                 conv2d_17[0][0]                  \n",
      "__________________________________________________________________________________________________\n",
      "conv2d_18 (Conv2D)              (None, 128, 128, 128 295040      concatenate_3[0][0]              \n",
      "__________________________________________________________________________________________________\n",
      "conv2d_19 (Conv2D)              (None, 128, 128, 128 147584      conv2d_18[0][0]                  \n",
      "__________________________________________________________________________________________________\n",
      "up_sampling2d_4 (UpSampling2D)  (None, 256, 256, 128 0           conv2d_19[0][0]                  \n",
      "__________________________________________________________________________________________________\n",
      "conv2d_20 (Conv2D)              (None, 256, 256, 64) 73792       up_sampling2d_4[0][0]            \n",
      "__________________________________________________________________________________________________\n",
      "concatenate_4 (Concatenate)     (None, 256, 256, 128 0           conv2d_2[0][0]                   \n",
      "                                                                 conv2d_20[0][0]                  \n",
      "__________________________________________________________________________________________________\n",
      "conv2d_21 (Conv2D)              (None, 256, 256, 64) 73792       concatenate_4[0][0]              \n",
      "__________________________________________________________________________________________________\n",
      "conv2d_22 (Conv2D)              (None, 256, 256, 64) 36928       conv2d_21[0][0]                  \n",
      "__________________________________________________________________________________________________\n",
      "conv2d_23 (Conv2D)              (None, 256, 256, 2)  1154        conv2d_22[0][0]                  \n",
      "__________________________________________________________________________________________________\n",
      "conv2d_24 (Conv2D)              (None, 256, 256, 1)  3           conv2d_23[0][0]                  \n",
      "==================================================================================================\n",
      "Total params: 27,959,685\n",
      "Trainable params: 27,959,685\n",
      "Non-trainable params: 0\n",
      "__________________________________________________________________________________________________\n",
      "Train on 1341 samples, validate on 149 samples\n",
      "Epoch 1/10\n",
      "1341/1341 [==============================] - 137s 102ms/step - loss: 0.2141 - dice_coef: 0.7861 - val_loss: 0.1125 - val_dice_coef: 0.8879\n",
      "\n",
      "Epoch 00001: loss improved from inf to 0.21410, saving model to unet_membrane.hdf5\n",
      "Epoch 2/10\n",
      "1341/1341 [==============================] - 131s 98ms/step - loss: 0.1075 - dice_coef: 0.8925 - val_loss: 0.0893 - val_dice_coef: 0.9110\n",
      "\n",
      "Epoch 00002: loss improved from 0.21410 to 0.10754, saving model to unet_membrane.hdf5\n",
      "Epoch 3/10\n",
      "1341/1341 [==============================] - 130s 97ms/step - loss: 0.0995 - dice_coef: 0.9006 - val_loss: 0.0879 - val_dice_coef: 0.9123\n",
      "\n",
      "Epoch 00003: loss improved from 0.10754 to 0.09950, saving model to unet_membrane.hdf5\n",
      "Epoch 4/10\n",
      "1341/1341 [==============================] - 130s 97ms/step - loss: 0.0921 - dice_coef: 0.9081 - val_loss: 0.0978 - val_dice_coef: 0.9027\n",
      "\n",
      "Epoch 00004: loss improved from 0.09950 to 0.09206, saving model to unet_membrane.hdf5\n",
      "Epoch 00004: early stopping\n"
     ]
    }
   ],
   "source": [
    "# create model 1\n",
    "model1 = apply_unet()\n",
    "\n",
    "# reshape the data and mask\n",
    "train_images = x_train.reshape(-1,256,256,1)\n",
    "train_label = y_train.reshape(-1,256,256,1)\n",
    "\n",
    "# training the model\n",
    "es = EarlyStopping(monitor='val_loss', mode='min', verbose=1)\n",
    "model_checkpoint = ModelCheckpoint('unet_membrane.hdf5', monitor='loss',verbose=1, save_best_only=True)\n",
    "history = model1.fit(train_images,train_label, batch_size=4, epochs=10, verbose=1, validation_split=0.1, shuffle=True, callbacks=[model_checkpoint,es] )\n",
    "\n",
    "model1.save('model1.h5')"
   ]
  },
  {
   "cell_type": "code",
   "execution_count": 0,
   "metadata": {
    "colab": {},
    "colab_type": "code",
    "id": "KNcOXtib_Jrk"
   },
   "outputs": [],
   "source": [
    "test_images = x_test.reshape(-1,256,256,1)\n",
    "test_label = y_test.reshape(-1,256,256)"
   ]
  },
  {
   "cell_type": "code",
   "execution_count": 0,
   "metadata": {
    "colab": {},
    "colab_type": "code",
    "id": "aCT3Yr8WbU6n"
   },
   "outputs": [],
   "source": [
    "def dice_coefficient(pred, target):\n",
    "    smooth = 1\n",
    "    m1 = pred.flatten()  # Flatten\n",
    "    m2 = target.flatten()  # Flatten\n",
    "    intersection = (m1 * m2).sum()\n",
    "\n",
    "    return (2 * intersection + smooth) / (m1.sum() + m2.sum() + smooth)"
   ]
  },
  {
   "cell_type": "code",
   "execution_count": 0,
   "metadata": {
    "colab": {},
    "colab_type": "code",
    "id": "W-xaTSxeK7tH"
   },
   "outputs": [],
   "source": [
    "y_test_pred = model1.predict(test_images)"
   ]
  },
  {
   "cell_type": "code",
   "execution_count": 0,
   "metadata": {
    "colab": {},
    "colab_type": "code",
    "id": "nit87L7Vd6DT"
   },
   "outputs": [],
   "source": [
    "y_test_pred = y_test_pred.reshape(-1,256,256)"
   ]
  },
  {
   "cell_type": "code",
   "execution_count": 0,
   "metadata": {
    "colab": {},
    "colab_type": "code",
    "id": "bRMmI-txcFx1"
   },
   "outputs": [],
   "source": [
    "val = 0\n",
    "for i in range(y_test_pred.shape[0]):\n",
    "  val1 = dice_coefficient(y_test_pred[i],test_label[i])\n",
    "  val = val + val1\n",
    "\n",
    "dice_val = val/y_test_pred.shape[0]"
   ]
  },
  {
   "cell_type": "code",
   "execution_count": 15,
   "metadata": {
    "colab": {
     "base_uri": "https://localhost:8080/",
     "height": 34
    },
    "colab_type": "code",
    "id": "y1d4Rq_7fLA1",
    "outputId": "9121d4ee-778a-4d0c-99e7-eaa12863fcfb"
   },
   "outputs": [
    {
     "name": "stdout",
     "output_type": "stream",
     "text": [
      "0.9085243580389634\n"
     ]
    }
   ],
   "source": [
    "print(dice_val)"
   ]
  },
  {
   "cell_type": "code",
   "execution_count": 16,
   "metadata": {
    "colab": {
     "base_uri": "https://localhost:8080/",
     "height": 286
    },
    "colab_type": "code",
    "id": "DswTS2DTXwkK",
    "outputId": "ad1b351a-e9a0-4d0c-bec3-bcfd22bebabf"
   },
   "outputs": [
    {
     "data": {
      "text/plain": [
       "<matplotlib.image.AxesImage at 0x7feef51bbd30>"
      ]
     },
     "execution_count": 16,
     "metadata": {
      "tags": []
     },
     "output_type": "execute_result"
    },
    {
     "data": {
      "image/png": "[encoded data removed]",
      "text/plain": [
       "<Figure size 432x288 with 1 Axes>"
      ]
     },
     "metadata": {
      "needs_background": "light",
      "tags": []
     },
     "output_type": "display_data"
    }
   ],
   "source": [
    "plt.imshow(test_label[0])"
   ]
  },
  {
   "cell_type": "code",
   "execution_count": 17,
   "metadata": {
    "colab": {
     "base_uri": "https://localhost:8080/",
     "height": 286
    },
    "colab_type": "code",
    "id": "4_qEzreqX6oO",
    "outputId": "c8e9af1c-02b5-4a44-d3ca-9d355858d822"
   },
   "outputs": [
    {
     "data": {
      "text/plain": [
       "<matplotlib.image.AxesImage at 0x7feef520d588>"
      ]
     },
     "execution_count": 17,
     "metadata": {
      "tags": []
     },
     "output_type": "execute_result"
    },
    {
     "data": {
      "image/png": "[encoded data removed]",
      "text/plain": [
       "<Figure size 432x288 with 1 Axes>"
      ]
     },
     "metadata": {
      "needs_background": "light",
      "tags": []
     },
     "output_type": "display_data"
    }
   ],
   "source": [
    "plt.imshow(y_test_pred[0])"
   ]
  }
 ],
 "metadata": {
  "accelerator": "GPU",
  "colab": {
   "name": "Unet.ipynb",
   "provenance": []
  },
  "kernelspec": {
   "display_name": "Python 3",
   "language": "python",
   "name": "python3"
  },
  "language_info": {
   "codemirror_mode": {
    "name": "ipython",
    "version": 3
   },
   "file_extension": ".py",
   "mimetype": "text/x-python",
   "name": "python",
   "nbconvert_exporter": "python",
   "pygments_lexer": "ipython3",
   "version": "3.7.1"
  }
 },
 "nbformat": 4,
 "nbformat_minor": 1
}
